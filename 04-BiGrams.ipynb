{
 "cells": [
  {
   "cell_type": "code",
   "execution_count": 7,
   "metadata": {},
   "outputs": [],
   "source": [
    "import pandas, nltk\n",
    "from nltk.collocations import BigramCollocationFinder \n",
    "from nltk.metrics import BigramAssocMeasures \n",
    "from nltk.corpus import stopwords "
   ]
  },
  {
   "cell_type": "code",
   "execution_count": null,
   "metadata": {},
   "outputs": [],
   "source": [
    "# Load the CSV as a dataframe\n",
    "colnames = ['Title' , 'Date', 'Author', 'Origin', 'URL', 'Text']\n",
    "df = pandas.read_csv('./clowns_2a.csv', names=colnames)\n",
    "\n",
    "# Create two lists (because I'm not so good on working with the dataframe)\n",
    "texts = df.Text.tolist()\n",
    "dates = df.Date.tolist()\n",
    "\n",
    "def string_test(s):\n",
    "    if s is None:\n",
    "        return ''\n",
    "    else:\n",
    "        return str(s)\n",
    "\n",
    "# With any luck, this list comprehension will work:\n",
    "strings = [ string_test(text) for text in texts ]\n",
    "\n",
    "# Eliminate carriage returns\n",
    "legends = []\n",
    "for string in strings:\n",
    "    string = string.replace(u'\\xa0', u' ')\n",
    "    legends.append(string)\n",
    "    "
   ]
  },
  {
   "cell_type": "code",
   "execution_count": 9,
   "metadata": {},
   "outputs": [],
   "source": [
    "# Textify for NLTK\n",
    "texts = []\n",
    "for legend in legends:\n",
    "    tokens = nltk.word_tokenize(legend)\n",
    "    text = nltk.Text(tokens)\n",
    "    texts.append(text)"
   ]
  },
  {
   "cell_type": "code",
   "execution_count": 24,
   "metadata": {},
   "outputs": [],
   "source": [
    "all_tokens = nltk.word_tokenize(' '.join(legends))\n",
    "all_texts = nltk.Text(all_tokens)"
   ]
  },
  {
   "cell_type": "code",
   "execution_count": 26,
   "metadata": {},
   "outputs": [
    {
     "data": {
      "text/plain": [
       "[('’', 's'),\n",
       " ('’', 't'),\n",
       " ('5', 'months'),\n",
       " ('months', 'ago'),\n",
       " ('–', ']'),\n",
       " ('[', '–'),\n",
       " ('goldreply', '['),\n",
       " ('points', '5'),\n",
       " ('.', 'The'),\n",
       " ('.', '“'),\n",
       " ('social', 'media'),\n",
       " ('permalinkembedsaveparentreportgive', 'goldreply'),\n",
       " ('a', 'clown'),\n",
       " ('South', 'Carolina'),\n",
       " ('have', 'been'),\n",
       " ('the', 'woods'),\n",
       " ('in', 'the'),\n",
       " (',', 'but'),\n",
       " ('.', 'He'),\n",
       " ('clown', 'sightings')]"
      ]
     },
     "execution_count": 26,
     "metadata": {},
     "output_type": "execute_result"
    }
   ],
   "source": [
    "biagram_collocation = BigramCollocationFinder.from_words(all_texts)\n",
    "biagram_collocation.nbest(BigramAssocMeasures.likelihood_ratio, 20) "
   ]
  },
  {
   "cell_type": "code",
   "execution_count": 27,
   "metadata": {},
   "outputs": [
    {
     "data": {
      "text/plain": [
       "[('months', 'ago'),\n",
       " ('social', 'media'),\n",
       " ('permalinkembedsaveparentreportgive', 'goldreply'),\n",
       " ('South', 'Carolina'),\n",
       " ('clown', 'sightings'),\n",
       " ('Fleetwood', 'Manor'),\n",
       " ('apartment', 'complex'),\n",
       " ('creepy', 'clown'),\n",
       " ('permalinkembedsavereportgive', 'goldreply'),\n",
       " ('Stephen', 'King'),\n",
       " ('lure', 'children'),\n",
       " ('law', 'enforcement'),\n",
       " ('Police', 'Department'),\n",
       " ('Penn', 'State'),\n",
       " ('County', 'Sheriff'),\n",
       " ('Greenville', 'County'),\n",
       " ('North', 'Carolina'),\n",
       " ('permalinksaveparentreportgive', 'goldreply'),\n",
       " ('New', 'York'),\n",
       " ('clown', 'mask')]"
      ]
     },
     "execution_count": 27,
     "metadata": {},
     "output_type": "execute_result"
    }
   ],
   "source": [
    "stopset = set(stopwords.words('english')) \n",
    "filter_stops = lambda w: len(w) < 3 or w in stopset \n",
    "  \n",
    "biagram_collocation.apply_word_filter(filter_stops) \n",
    "biagram_collocation.nbest(BigramAssocMeasures.likelihood_ratio, 20) "
   ]
  },
  {
   "cell_type": "code",
   "execution_count": 28,
   "metadata": {},
   "outputs": [
    {
     "data": {
      "text/plain": [
       "[('months', 'ago', 'You'),\n",
       " ('months', 'ago', 'Not'),\n",
       " ('months', 'ago', 'That'),\n",
       " ('months', 'ago', 'http'),\n",
       " ('months', 'ago', 'This'),\n",
       " ('months', 'ago', 'For'),\n",
       " ('months', 'ago', 'What'),\n",
       " ('months', 'ago', 'And'),\n",
       " ('months', 'ago', 'Just'),\n",
       " ('months', 'ago', 'Yeah'),\n",
       " ('months', 'ago', 'There'),\n",
       " ('months', 'ago', 'They'),\n",
       " ('months', 'ago', 'The'),\n",
       " ('months', 'ago', 'But'),\n",
       " ('creepy', 'clown', 'sightings'),\n",
       " ('permalinkembedsaveparentreportgive', 'goldreply', 'load'),\n",
       " ('social', 'media', 'posts'),\n",
       " ('social', 'media', 'threat'),\n",
       " ('social', 'media', 'threats'),\n",
       " ('scary', 'clown', 'sightings')]"
      ]
     },
     "execution_count": 28,
     "metadata": {},
     "output_type": "execute_result"
    }
   ],
   "source": [
    "from nltk.collocations import TrigramCollocationFinder \n",
    "from nltk.metrics import TrigramAssocMeasures \n",
    "\n",
    "trigram_collocation = TrigramCollocationFinder.from_words(all_texts) \n",
    "trigram_collocation.apply_word_filter(filter_stops) \n",
    "trigram_collocation.apply_freq_filter(3) \n",
    "  \n",
    "trigram_collocation.nbest(TrigramAssocMeasures.likelihood_ratio, 20)"
   ]
  },
  {
   "cell_type": "code",
   "execution_count": 13,
   "metadata": {},
   "outputs": [
    {
     "name": "stdout",
     "output_type": "stream",
     "text": [
      "Displaying 4 of 4 matches:\n",
      "being attacked by a man dressed as a clown . Schools in the Cincinnati suburb o\n",
      "a cigarette on her porch when the `` clown '' approached her and told her , `` \n",
      "a striped outfit , red wig and white clown mask . The incident comes after poli\n",
      "chool students there . The `` creepy clown '' incidents have been popping up ar\n"
     ]
    }
   ],
   "source": [
    "texts[0].concordance(\"clown\")"
   ]
  }
 ],
 "metadata": {
  "kernelspec": {
   "display_name": "Python 3",
   "language": "python",
   "name": "python3"
  },
  "language_info": {
   "codemirror_mode": {
    "name": "ipython",
    "version": 3
   },
   "file_extension": ".py",
   "mimetype": "text/x-python",
   "name": "python",
   "nbconvert_exporter": "python",
   "pygments_lexer": "ipython3",
   "version": "3.6.7"
  }
 },
 "nbformat": 4,
 "nbformat_minor": 2
}
