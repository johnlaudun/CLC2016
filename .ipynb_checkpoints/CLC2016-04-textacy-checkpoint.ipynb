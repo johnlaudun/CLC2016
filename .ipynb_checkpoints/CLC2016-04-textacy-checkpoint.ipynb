{
 "cells": [
  {
   "cell_type": "markdown",
   "metadata": {},
   "source": [
    "Start [here](https://chartbeat-labs.github.io/textacy/getting_started/quickstart.html)."
   ]
  },
  {
   "cell_type": "code",
   "execution_count": 1,
   "metadata": {},
   "outputs": [],
   "source": [
    "import pandas, textacy"
   ]
  },
  {
   "cell_type": "code",
   "execution_count": 2,
   "metadata": {},
   "outputs": [],
   "source": [
    "# Load the CSV as a dataframe\n",
    "colnames = ['Title' , 'Date', 'Author', 'Origin', 'URL', 'Text']\n",
    "df = pandas.read_csv('./clowns_2a.csv', names=colnames)\n",
    "\n",
    "# Create two lists (because I'm not so good on working with the dataframe)\n",
    "texts = df.Text.tolist()\n",
    "dates = df.Date.tolist()\n",
    "\n",
    "def string_test(s):\n",
    "    if s is None:\n",
    "        return ''\n",
    "    else:\n",
    "        return str(s)\n",
    "\n",
    "# With any luck, this list comprehension will work:\n",
    "strings = [ string_test(text) for text in texts ]\n",
    "\n",
    "# Eliminate carriage returns\n",
    "legends = []\n",
    "for string in strings:\n",
    "    string = string.replace(u'\\xa0', u' ')\n",
    "    legends.append(string)"
   ]
  },
  {
   "cell_type": "code",
   "execution_count": 6,
   "metadata": {},
   "outputs": [
    {
     "name": "stdout",
     "output_type": "stream",
     "text": [
      "an being attacked by a man dressed as a  clown . Schools in the Cincinnati suburb of Re\n",
      "king a cigarette on her porch when the \" clown \" approached her and told her, \"I should\n",
      "ing a striped outfit, red wig and white  clown  mask. The incident comes after police a\n",
      "high school students there. The \"creepy  clown \" incidents have been popping up around \n",
      "hat they were chased from a bus stop by  clown s, while a woman and two juveniles were \n"
     ]
    }
   ],
   "source": [
    "textacy.text_utils.KWIC(legends[0], \"clown\", window_width=40)"
   ]
  }
 ],
 "metadata": {
  "kernelspec": {
   "display_name": "Python 3",
   "language": "python",
   "name": "python3"
  },
  "language_info": {
   "codemirror_mode": {
    "name": "ipython",
    "version": 3
   },
   "file_extension": ".py",
   "mimetype": "text/x-python",
   "name": "python",
   "nbconvert_exporter": "python",
   "pygments_lexer": "ipython3",
   "version": "3.6.7"
  }
 },
 "nbformat": 4,
 "nbformat_minor": 2
}
