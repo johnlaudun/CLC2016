{
 "cells": [
  {
   "cell_type": "code",
   "execution_count": null,
   "metadata": {
    "collapsed": true
   },
   "outputs": [],
   "source": [
    "# =-=-=-=-=-=-=-=-=-=-=\n",
    "# Load the CSV as a dataframe\n",
    "# =-=-=-=-=-=-=-=-=-=-= \n",
    "\n",
    "import pandas\n",
    "\n",
    "colnames = ['Title' , 'Date', 'Author', 'Origin', 'URL', 'Text']\n",
    "df = pandas.read_csv('./clowns_2a.csv', names=colnames)\n",
    "texts = df.Text.tolist()"
   ]
  },
  {
   "cell_type": "code",
   "execution_count": 13,
   "metadata": {
    "collapsed": true
   },
   "outputs": [],
   "source": [
    "# =-=-=-=-=-=-=-=-=-=-=\n",
    "# Clean and Tokenize\n",
    "# =-=-=-=-=-=-=-=-=-=-= \n",
    "\n",
    "import re\n",
    "from nltk.tokenize import WhitespaceTokenizer\n",
    "\n",
    "def string_test(s):\n",
    "    if s is None:\n",
    "        return ''\n",
    "    else:\n",
    "        return str(s)\n",
    "\n",
    "# With any luck, this list comprehension will work:\n",
    "strings = [ string_test(text) for text in texts ]\n",
    "\n",
    "# Eliminate carriage returns\n",
    "legends = []\n",
    "for string in strings:\n",
    "    string = string.replace(u'\\xa0', u' ')\n",
    "    legends.append(string)\n",
    "\n",
    "# TOKENIZE\n",
    "tokenizer = WhitespaceTokenizer()\n",
    "tokenized = []\n",
    "for legend in legends:   \n",
    "    raw = re.sub(r\"[^\\w\\d'\\s]+\",'', legend).lower()\n",
    "    tokens = tokenizer.tokenize(raw)\n",
    "    tokenized.append(tokens)"
   ]
  },
  {
   "cell_type": "code",
   "execution_count": 14,
   "metadata": {},
   "outputs": [],
   "source": [
    "# =-=-=-=-=-=-=-=-=-=-=\n",
    "# Count Words\n",
    "# =-=-=-=-=-=-=-=-=-=-= \n",
    "\n",
    "import csv\n",
    "\n",
    "# Build a dictionary of words and their frequency in the corpus\n",
    "freq = {}\n",
    "for text in tokenized:\n",
    "    for word in text:\n",
    "        try:\n",
    "            freq[word] += 1\n",
    "        except: \n",
    "            freq[word] = 1\n",
    "\n",
    "# Convert dictionary into a list of tuples\n",
    "freq_list = [(val, key) for key, val in freq.items()]\n",
    "\n",
    "# Sort with most frequent words at top\n",
    "freq_list.sort(reverse=True)\n",
    "\n",
    "# Write to file\n",
    "with open('./word_freq.csv', 'w') as f:\n",
    "        wtr = csv.writer(f)\n",
    "        wtr.writerows(sorted(freq_list, reverse=True))\n",
    "        f.close()"
   ]
  }
 ],
 "metadata": {
  "kernelspec": {
   "display_name": "Python 3",
   "language": "python",
   "name": "python3"
  },
  "language_info": {
   "codemirror_mode": {
    "name": "ipython",
    "version": 3
   },
   "file_extension": ".py",
   "mimetype": "text/x-python",
   "name": "python",
   "nbconvert_exporter": "python",
   "pygments_lexer": "ipython3",
   "version": "3.4.6"
  }
 },
 "nbformat": 4,
 "nbformat_minor": 2
}
