{
 "cells": [
  {
   "cell_type": "markdown",
   "metadata": {},
   "source": [
    "## Imports & Functions"
   ]
  },
  {
   "cell_type": "code",
   "execution_count": 1,
   "metadata": {},
   "outputs": [],
   "source": [
    "%matplotlib inline\n",
    "\n",
    "# =-=-=-=-=-=-=-=-=-=-=\n",
    "# IMPORTS &FXNS\n",
    "# =-=-=-=-=-=-=-=-=-=-= \n",
    "\n",
    "import re, pandas as pd, numpy as np\n",
    "import sklearn.feature_extraction.text as text\n",
    "from sklearn.decomposition import NMF\n",
    "from sklearn.feature_extraction import stop_words\n",
    "import matplotlib.pyplot as plt\n",
    "\n",
    "# plt.rcParams['figure.figsize'] = [10, 5]\n",
    "\n",
    "# =-=-=-=-=-=-=-=-=-=-=\n",
    "# FUNCTIONS\n",
    "# =-=-=-=-=-=-=-=-=-=-= \n",
    "\n",
    "def string_test(s):\n",
    "    if s is None:\n",
    "        return ' '\n",
    "    else:\n",
    "        return str(s)\n",
    "\n",
    "def strainer(the_list):\n",
    "    strained = []\n",
    "    for string in the_list:\n",
    "        string_test(string)\n",
    "        string = string.replace(u'\\xa0', u' ')\n",
    "        strained.append(string)\n",
    "    return strained\n",
    "\n",
    "# Eliminate carriage returns\n",
    "# legends = []\n",
    "# for string in strings:\n",
    "#     string = string.replace(u'\\xa0', u' ')\n",
    "#     legends.append(string)"
   ]
  },
  {
   "cell_type": "markdown",
   "metadata": {},
   "source": [
    "## Load the Data; Create 3 Groups"
   ]
  },
  {
   "cell_type": "code",
   "execution_count": 2,
   "metadata": {},
   "outputs": [
    {
     "data": {
      "text/plain": [
       "News Report     162\n",
       "Social Media     18\n",
       "Fiction           2\n",
       "Name: Origin, dtype: int64"
      ]
     },
     "execution_count": 2,
     "metadata": {},
     "output_type": "execute_result"
    }
   ],
   "source": [
    "# Load the CSV as a dataframe\n",
    "df = pd.read_csv('./clowns_3.csv')\n",
    "df.Origin.value_counts()"
   ]
  },
  {
   "cell_type": "code",
   "execution_count": 4,
   "metadata": {},
   "outputs": [],
   "source": [
    "df['Date']=pd.to_datetime(df['Date'])"
   ]
  },
  {
   "cell_type": "code",
   "execution_count": 5,
   "metadata": {},
   "outputs": [],
   "source": [
    "df['Date'] = df['Date'].dt.date"
   ]
  },
  {
   "cell_type": "code",
   "execution_count": 6,
   "metadata": {},
   "outputs": [
    {
     "data": {
      "text/html": [
       "<div>\n",
       "<style scoped>\n",
       "    .dataframe tbody tr th:only-of-type {\n",
       "        vertical-align: middle;\n",
       "    }\n",
       "\n",
       "    .dataframe tbody tr th {\n",
       "        vertical-align: top;\n",
       "    }\n",
       "\n",
       "    .dataframe thead th {\n",
       "        text-align: right;\n",
       "    }\n",
       "</style>\n",
       "<table border=\"1\" class=\"dataframe\">\n",
       "  <thead>\n",
       "    <tr style=\"text-align: right;\">\n",
       "      <th></th>\n",
       "      <th>Title</th>\n",
       "      <th>Date</th>\n",
       "      <th>Author</th>\n",
       "      <th>Origin</th>\n",
       "      <th>URL</th>\n",
       "      <th>Text</th>\n",
       "    </tr>\n",
       "  </thead>\n",
       "  <tbody>\n",
       "    <tr>\n",
       "      <th>0</th>\n",
       "      <td>Clown Attack on Woman Forces Cincinnati Suburb...</td>\n",
       "      <td>2016-09-30</td>\n",
       "      <td>NaN</td>\n",
       "      <td>News Report</td>\n",
       "      <td>http://insider.foxnews.com/2016/09/30/clown-at...</td>\n",
       "      <td>An Ohio school district closed schools today a...</td>\n",
       "    </tr>\n",
       "    <tr>\n",
       "      <th>1</th>\n",
       "      <td>Another Clown Was Spotted In The Woods And Pol...</td>\n",
       "      <td>2016-09-06</td>\n",
       "      <td>Michelle Broder Van Dyke</td>\n",
       "      <td>News Report</td>\n",
       "      <td>https://www.buzzfeed.com/mbvd/stop-clowning-ar...</td>\n",
       "      <td>The latest clown to be spotted was chased back...</td>\n",
       "    </tr>\n",
       "    <tr>\n",
       "      <th>2</th>\n",
       "      <td>Everyone in poor moiuntain please stay inside....</td>\n",
       "      <td>2016-09-13</td>\n",
       "      <td>Melissa Dooley</td>\n",
       "      <td>Social Media</td>\n",
       "      <td>https://www.facebook.com/melissa.dooley.397/po...</td>\n",
       "      <td>I don't know if this is real or fake. I didn't...</td>\n",
       "    </tr>\n",
       "    <tr>\n",
       "      <th>3</th>\n",
       "      <td>He's the hero this country deserves</td>\n",
       "      <td>2016-10-13</td>\n",
       "      <td>The LAD Bible</td>\n",
       "      <td>Social Media</td>\n",
       "      <td>https://www.facebook.com/LADbible/videos/29391...</td>\n",
       "      <td>Batman, \"As for you clowns, if you want to sca...</td>\n",
       "    </tr>\n",
       "    <tr>\n",
       "      <th>4</th>\n",
       "      <td>After-dark clown sightings trouble California ...</td>\n",
       "      <td>2014-10-13</td>\n",
       "      <td>The Associated Press , WBIR</td>\n",
       "      <td>News Report</td>\n",
       "      <td>http://www.wbir.com/news/after-dark-clown-sigh...</td>\n",
       "      <td>BAKERSFIELD, California (AP) — People dressed ...</td>\n",
       "    </tr>\n",
       "  </tbody>\n",
       "</table>\n",
       "</div>"
      ],
      "text/plain": [
       "                                               Title        Date  \\\n",
       "0  Clown Attack on Woman Forces Cincinnati Suburb...  2016-09-30   \n",
       "1  Another Clown Was Spotted In The Woods And Pol...  2016-09-06   \n",
       "2  Everyone in poor moiuntain please stay inside....  2016-09-13   \n",
       "3                He's the hero this country deserves  2016-10-13   \n",
       "4  After-dark clown sightings trouble California ...  2014-10-13   \n",
       "\n",
       "                        Author        Origin  \\\n",
       "0                          NaN   News Report   \n",
       "1     Michelle Broder Van Dyke   News Report   \n",
       "2               Melissa Dooley  Social Media   \n",
       "3                The LAD Bible  Social Media   \n",
       "4  The Associated Press , WBIR   News Report   \n",
       "\n",
       "                                                 URL  \\\n",
       "0  http://insider.foxnews.com/2016/09/30/clown-at...   \n",
       "1  https://www.buzzfeed.com/mbvd/stop-clowning-ar...   \n",
       "2  https://www.facebook.com/melissa.dooley.397/po...   \n",
       "3  https://www.facebook.com/LADbible/videos/29391...   \n",
       "4  http://www.wbir.com/news/after-dark-clown-sigh...   \n",
       "\n",
       "                                                Text  \n",
       "0  An Ohio school district closed schools today a...  \n",
       "1  The latest clown to be spotted was chased back...  \n",
       "2  I don't know if this is real or fake. I didn't...  \n",
       "3  Batman, \"As for you clowns, if you want to sca...  \n",
       "4  BAKERSFIELD, California (AP) — People dressed ...  "
      ]
     },
     "execution_count": 6,
     "metadata": {},
     "output_type": "execute_result"
    }
   ],
   "source": [
    "df.head()"
   ]
  },
  {
   "cell_type": "code",
   "execution_count": 7,
   "metadata": {},
   "outputs": [],
   "source": [
    "df = df.sort_values(by=['Date'])"
   ]
  },
  {
   "cell_type": "code",
   "execution_count": 8,
   "metadata": {},
   "outputs": [],
   "source": [
    "# Our core sets of texts\n",
    "texts = [ string_test(i) for i in df.Text.tolist() ]\n",
    "news = [ string_test(i) for i in df[df[\"Origin\"] == \"News Report\"].Text.tolist() ]\n",
    "social = [ string_test(i) for i in df[df[\"Origin\"] == \"Social Media\"].Text.tolist() ]\n",
    "\n",
    "# Metadata for use later\n",
    "dates = df.Date.tolist()\n",
    "origins = df.Origin.tolist()"
   ]
  },
  {
   "cell_type": "code",
   "execution_count": 13,
   "metadata": {},
   "outputs": [],
   "source": [
    "with open('texts-social.txt', 'w') as the_file:\n",
    "    for item in social:\n",
    "        the_file.write('%s\\n' % item)"
   ]
  },
  {
   "cell_type": "code",
   "execution_count": 38,
   "metadata": {},
   "outputs": [
    {
     "name": "stdout",
     "output_type": "stream",
     "text": [
      "[datetime.date(2014, 7, 31), datetime.date(2014, 10, 11), datetime.date(2014, 10, 13), datetime.date(2016, 7, 22), datetime.date(2016, 8, 4)]\n"
     ]
    }
   ],
   "source": [
    "print(dates[0:5])"
   ]
  },
  {
   "cell_type": "markdown",
   "metadata": {},
   "source": [
    "## Topic Model"
   ]
  },
  {
   "cell_type": "code",
   "execution_count": 57,
   "metadata": {},
   "outputs": [
    {
     "data": {
      "text/plain": [
       "(182, 4028)"
      ]
     },
     "execution_count": 57,
     "metadata": {},
     "output_type": "execute_result"
    }
   ],
   "source": [
    "# STOPWORDS (adding some particularly annoying things to remove to base list)\n",
    "local_stop = [ 'goldreply', 'points', 'permalinkembedsaveparentreportgive', \n",
    "              'permalinkembedsavereportgive' ]\n",
    "all_stop = text.ENGLISH_STOP_WORDS.union(local_stop)\n",
    "\n",
    "# Instantiating the vectorizer\n",
    "vectorizer = text.CountVectorizer(stop_words = all_stop, \n",
    "                                  min_df = 2 )\n",
    "dotomo = vectorizer.fit_transform(texts)\n",
    "dtm = dotomo.toarray()\n",
    "vocab = np.array(vectorizer.get_feature_names())\n",
    "dtm.shape"
   ]
  },
  {
   "cell_type": "markdown",
   "metadata": {},
   "source": [
    "With our 182 texts, we have a vocabulary of 4032 words."
   ]
  },
  {
   "cell_type": "code",
   "execution_count": 49,
   "metadata": {},
   "outputs": [],
   "source": [
    "n_topics = 10\n",
    "n_top_words = 10\n",
    "\n",
    "clf = NMF(n_components=n_topics, random_state=1)\n",
    "\n",
    "doctopic = clf.fit_transform(dtm)\n",
    "\n",
    "topic_words = []\n",
    "for topic in clf.components_:\n",
    "    word_idx = np.argsort(topic)[::-1][0:n_top_words]\n",
    "    topic_words.append([vocab[i] for i in word_idx])"
   ]
  },
  {
   "cell_type": "code",
   "execution_count": 50,
   "metadata": {},
   "outputs": [
    {
     "name": "stdout",
     "output_type": "stream",
     "text": [
      "Topic 0: just like didn clown let don time going wasn did\n",
      "Topic 1: clown police reports clowns children sightings reported local carolina south\n",
      "Topic 2: ago months clown point just people school comments think like\n",
      "Topic 3: said greenville clowns clown woods children police apartment told deputies\n",
      "Topic 4: clown clowns people creepy like says fear hysteria scary just\n",
      "Topic 5: school police said threats schools reports people county high clowns\n",
      "Topic 6: clown said 2016 police threats october sightings clowns girl september\n",
      "Topic 7: said henry clown house police just dude ronald parents time\n",
      "Topic 8: clowns people clown state penn reports campus said twitter students\n",
      "Topic 9: clown said event threats march matter lives creepy tucson canceled\n"
     ]
    }
   ],
   "source": [
    "for t in range(len(topic_words)):\n",
    "    print(\"Topic {}: {}\".format(t, ' '.join(topic_words[t][:15])))"
   ]
  },
  {
   "cell_type": "code",
   "execution_count": 19,
   "metadata": {},
   "outputs": [
    {
     "name": "stderr",
     "output_type": "stream",
     "text": [
      "/opt/local/Library/Frameworks/Python.framework/Versions/3.6/lib/python3.6/site-packages/ipykernel_launcher.py:1: RuntimeWarning: invalid value encountered in true_divide\n",
      "  \"\"\"Entry point for launching an IPython kernel.\n"
     ]
    }
   ],
   "source": [
    "doctopic = doctopic / np.sum(doctopic, axis=1, keepdims=True)"
   ]
  },
  {
   "cell_type": "markdown",
   "metadata": {},
   "source": [
    "### Top 3 Topics for Each Text"
   ]
  },
  {
   "cell_type": "code",
   "execution_count": 51,
   "metadata": {},
   "outputs": [
    {
     "name": "stdout",
     "output_type": "stream",
     "text": [
      "Top NMF topics in...\n",
      "2014-07-31, News Report, 4, 1, 6\n",
      "2014-10-11, News Report, 4, 8, 0\n",
      "2014-10-13, News Report, 5, 8, 1\n",
      "2016-07-22, News Report, 3, 0, 2\n",
      "2016-08-04, News Report, 6, 1, 7\n",
      "2016-08-26, Social Media, 6, 3, 9\n",
      "2016-08-26, News Report, 3, 6, 9\n",
      "2016-08-29, News Report, 1, 3, 6\n",
      "2016-08-29, News Report, 3, 7, 4\n",
      "2016-08-29, News Report, 3, 4, 8\n",
      "2016-08-29, News Report, 3, 5, 2\n",
      "2016-08-29, News Report, 3, 4, 1\n",
      "2016-08-30, News Report, 3, 4, 1\n",
      "2016-08-30, News Report, 3, 4, 9\n",
      "2016-08-30, News Report, 3, 4, 1\n",
      "2016-08-31, News Report, 3, 7, 1\n",
      "2016-08-31, News Report, 5, 1, 6\n",
      "2016-08-31, News Report, 3, 7, 8\n",
      "2016-09-01, News Report, 3, 5, 7\n",
      "2016-09-01, News Report, 3, 6, 1\n",
      "2016-09-01, News Report, 3, 6, 9\n",
      "2016-09-02, News Report, 3, 5, 7\n",
      "2016-09-02, News Report, 3, 1, 5\n",
      "2016-09-03, News Report, 3, 1, 4\n",
      "2016-09-05, News Report, 3, 6, 7\n",
      "2016-09-05, News Report, 3, 1, 5\n",
      "2016-09-05, Social Media, 6, 0, 2\n",
      "2016-09-05, News Report, 3, 1, 6\n",
      "2016-09-05, News Report, 1, 3, 5\n",
      "2016-09-06, News Report, 1, 3, 6\n",
      "2016-09-07, News Report, 3, 1, 4\n",
      "2016-09-07, News Report, 7, 4, 3\n",
      "2016-09-07, News Report, 1, 3, 7\n",
      "2016-09-07, News Report, 1, 3, 5\n",
      "2016-09-08, News Report, 1, 3, 4\n",
      "2016-09-08, News Report, 3, 1, 8\n",
      "2016-09-13, Social Media, 5, 0, 7\n",
      "2016-09-14, News Report, 5, 1, 3\n",
      "2016-09-15, News Report, 5, 1, 3\n",
      "2016-09-15, News Report, 5, 1, 4\n",
      "2016-09-16, News Report, 6, 1, 3\n",
      "2016-09-16, News Report, 5, 4, 1\n",
      "2016-09-18, Social Media, 4, 0, 2\n",
      "2016-09-19, News Report, 5, 4, 3\n",
      "2016-09-19, News Report, 3, 1, 4\n",
      "2016-09-19, News Report, 3, 1, 4\n",
      "2016-09-20, News Report, 5, 1, 4\n",
      "2016-09-20, News Report, 5, 7, 8\n",
      "2016-09-20, News Report, 4, 1, 3\n",
      "2016-09-20, News Report, 5, 4, 9\n",
      "2016-09-22, News Report, 8, 5, 3\n",
      "2016-09-22, News Report, 5, 4, 3\n",
      "2016-09-23, News Report, 1, 6, 4\n",
      "2016-09-23, News Report, 1, 5, 6\n",
      "2016-09-24, News Report, 1, 3, 8\n",
      "2016-09-24, News Report, 5, 1, 3\n",
      "2016-09-26, News Report, 5, 7, 3\n",
      "2016-09-27, News Report, 5, 8, 3\n",
      "2016-09-28, News Report, 8, 1, 4\n",
      "2016-09-28, News Report, 5, 1, 3\n",
      "2016-09-28, News Report, 5, 1, 3\n",
      "2016-09-28, News Report, 4, 5, 6\n",
      "2016-09-28, News Report, 5, 1, 3\n",
      "2016-09-29, News Report, 7, 8, 1\n",
      "2016-09-29, News Report, 5, 1, 7\n",
      "2016-09-29, News Report, 1, 5, 3\n",
      "2016-09-29, News Report, 1, 4, 3\n",
      "2016-09-29, News Report, 4, 1, 5\n",
      "2016-09-29, News Report, 5, 6, 3\n",
      "2016-09-30, News Report, 5, 1, 6\n",
      "2016-09-30, News Report, 5, 4, 9\n",
      "2016-09-30, News Report, 5, 8, 6\n",
      "2016-09-30, News Report, 5, 6, 1\n",
      "2016-09-30, News Report, 1, 8, 3\n",
      "2016-09-30, News Report, 7, 6, 5\n",
      "2016-09-30, News Report, 1, 5, 4\n",
      "2016-09-30, News Report, 5, 7, 6\n",
      "2016-09-30, News Report, 6, 1, 4\n",
      "2016-10-01, News Report, 5, 3, 1\n",
      "2016-10-01, News Report, 1, 5, 4\n",
      "2016-10-03, News Report, 5, 6, 4\n",
      "2016-10-03, News Report, 5, 6, 1\n",
      "2016-10-03, News Report, 1, 4, 8\n",
      "2016-10-03, News Report, 5, 6, 9\n",
      "2016-10-03, News Report, 5, 6, 1\n",
      "2016-10-03, News Report, 5, 8, 3\n",
      "2016-10-03, News Report, 5, 1, 6\n",
      "2016-10-03, News Report, 8, 4, 1\n",
      "2016-10-03, News Report, 5, 9, 7\n",
      "2016-10-03, News Report, 1, 4, 0\n",
      "2016-10-04, News Report, 6, 4, 9\n",
      "2016-10-04, News Report, 4, 1, 6\n",
      "2016-10-04, Social Media, 5, 4, 9\n",
      "2016-10-04, News Report, 4, 8, 5\n",
      "2016-10-04, News Report, 2, 4, 0\n",
      "2016-10-04, News Report, 8, 6, 4\n",
      "2016-10-04, News Report, 8, 1, 9\n",
      "2016-10-04, News Report, 6, 5, 9\n",
      "2016-10-04, News Report, 5, 7, 3\n",
      "2016-10-04, News Report, 8, 9, 5\n",
      "2016-10-04, News Report, 4, 9, 7\n",
      "2016-10-04, News Report, 8, 1, 9\n",
      "2016-10-04, News Report, 2, 5, 6\n",
      "2016-10-04, Social Media, 8, 1, 7\n",
      "2016-10-04, News Report, 8, 1, 7\n",
      "2016-10-04, News Report, 5, 9, 7\n",
      "2016-10-05, News Report, 8, 1, 6\n",
      "2016-10-05, News Report, 5, 6, 7\n",
      "2016-10-05, News Report, 3, 6, 9\n",
      "2016-10-05, News Report, 5, 6, 9\n",
      "2016-10-05, News Report, 2, 7, 9\n",
      "2016-10-05, News Report, 5, 8, 3\n",
      "2016-10-05, News Report, 6, 1, 4\n",
      "2016-10-05, News Report, 5, 7, 8\n",
      "2016-10-05, News Report, 4, 6, 9\n",
      "2016-10-05, News Report, 4, 8, 9\n",
      "2016-10-05, News Report, 5, 6, 1\n",
      "2016-10-05, News Report, 4, 8, 3\n",
      "2016-10-05, News Report, 4, 6, 9\n",
      "2016-10-05, News Report, 4, 8, 5\n",
      "2016-10-05, News Report, 5, 9, 6\n",
      "2016-10-05, News Report, 4, 1, 5\n",
      "2016-10-05, Social Media, 4, 1, 8\n",
      "2016-10-05, News Report, 4, 5, 9\n",
      "2016-10-05, News Report, 4, 1, 8\n",
      "2016-10-05, News Report, 5, 1, 8\n",
      "2016-10-06, News Report, 6, 4, 1\n",
      "2016-10-06, News Report, 4, 1, 6\n",
      "2016-10-06, News Report, 9, 4, 8\n",
      "2016-10-06, Social Media, 2, 5, 7\n",
      "2016-10-06, News Report, 2, 8, 4\n",
      "2016-10-06, Social Media, 6, 7, 5\n",
      "2016-10-06, News Report, 4, 2, 8\n",
      "2016-10-06, News Report, 4, 6, 9\n",
      "2016-10-06, Social Media, 9, 4, 5\n",
      "2016-10-06, News Report, 4, 5, 8\n",
      "2016-10-07, Social Media, 4, 8, 1\n",
      "2016-10-07, News Report, 4, 6, 3\n",
      "2016-10-07, News Report, 4, 5, 7\n",
      "2016-10-07, News Report, 5, 4, 8\n",
      "2016-10-07, Social Media, 7, 2, 4\n",
      "2016-10-07, News Report, 4, 8, 5\n",
      "2016-10-07, News Report, 4, 1, 9\n",
      "2016-10-07, News Report, 4, 3, 8\n",
      "2016-10-07, News Report, 2, 4, 8\n",
      "2016-10-08, News Report, 5, 4, 3\n",
      "2016-10-10, News Report, 4, 6, 1\n",
      "2016-10-10, News Report, 4, 1, 9\n",
      "2016-10-11, News Report, 1, 4, 5\n",
      "2016-10-11, News Report, 8, 5, 4\n",
      "2016-10-11, News Report, 4, 8, 7\n",
      "2016-10-11, News Report, 6, 1, 4\n",
      "2016-10-11, News Report, 4, 6, 5\n",
      "2016-10-11, News Report, 6, 7, 5\n",
      "2016-10-12, News Report, 5, 4, 1\n",
      "2016-10-12, News Report, 4, 6, 1\n",
      "2016-10-13, Social Media, 4, 3, 8\n",
      "2016-10-14, Social Media, 2, 9, 7\n",
      "2016-10-14, News Report, 4, 8, 1\n",
      "2016-10-14, News Report, 9, 8, 2\n",
      "2016-10-15, News Report, 4, 6, 9\n",
      "2016-10-16, News Report, 4, 9, 7\n",
      "2016-10-17, News Report, 6, 9, 4\n",
      "2016-10-19, News Report, 4, 8, 2\n",
      "2016-10-20, News Report, 6, 5, 8\n",
      "2016-10-21, News Report, 4, 9, 7\n",
      "2016-10-24, News Report, 9, 8, 7\n",
      "2016-10-26, News Report, 4, 0, 5\n",
      "2016-10-29, News Report, 6, 7, 1\n",
      "2016-10-30, News Report, 4, 6, 1\n",
      "2016-10-31, News Report, 4, 1, 5\n",
      "2016-10-31, News Report, 4, 6, 1\n",
      "2016-11-16, Social Media, 2, 9, 8\n",
      "2016-11-16, Social Media, 2, 9, 1\n",
      "2016-11-16, News Report, 7, 0, 2\n",
      "2016-11-16, Fiction, 6, 4, 0\n",
      "2016-11-22, Social Media, 7, 6, 0\n",
      "2016-11-22, Fiction, 0, 8, 7\n",
      "2016-12-19, Social Media, 8, 4, 1\n",
      "2016-12-19, News Report, 4, 8, 9\n",
      "2017-03-07, News Report, 1, 4, 6\n",
      "2017-10-16, News Report, 2, 4, 8\n"
     ]
    }
   ],
   "source": [
    "# Now to associate NMF topics to documents...\n",
    "print(\"Top NMF topics in...\")\n",
    "for i in range(len(doctopic)):\n",
    "    top_topics = np.argsort(doctopic[i,:])[::-1][0:3]\n",
    "    top_topics_str = ', '.join(str(t) for t in top_topics)\n",
    "    print(\"{}, {}, {}\".format(dates[i], origins[i], top_topics_str))"
   ]
  },
  {
   "cell_type": "markdown",
   "metadata": {},
   "source": [
    "## Graphing the Topic Model"
   ]
  },
  {
   "cell_type": "code",
   "execution_count": 52,
   "metadata": {
    "scrolled": false
   },
   "outputs": [
    {
     "data": {
      "image/png": "[encoded data removed]",
      "text/plain": [
       "<Figure size 2160x1440 with 1 Axes>"
      ]
     },
     "metadata": {
      "needs_background": "light"
     },
     "output_type": "display_data"
    }
   ],
   "source": [
    "plt.rcParams[\"figure.figsize\"]=30,20\n",
    "\n",
    "N, K = doctopic.shape  # N documents, K topics\n",
    "ind = np.arange(N)  # the x-axis locations for the texts\n",
    "width = 1  # the width of the bars\n",
    "plots = []\n",
    "height_cumulative = np.zeros(N)\n",
    "\n",
    "for k in range(K):\n",
    "    color = plt.cm.coolwarm(k/K, 1)\n",
    "    if k == 0:\n",
    "        p = plt.bar(ind, doctopic[:, k], width, color=color)\n",
    "    else:\n",
    "        p = plt.bar(ind, doctopic[:, k], width, bottom=height_cumulative, color=color)\n",
    "    height_cumulative += doctopic[:, k]\n",
    "    plots.append(p)\n",
    "\n",
    "topic_labels = ['Topic {}'.format(k) for k in range(K)]\n",
    "\n",
    "plt.ylim((0, 1))  # proportions sum to 1, so the height of the stacked bars is 1\n",
    "plt.ylabel('Topics')\n",
    "plt.title('Topic Trends in 2016 Clown Legend Cascade')\n",
    "plt.xticks(ind+width/2, dates, rotation='vertical')\n",
    "plt.yticks(np.arange(0, 1, 10))\n",
    "plt.legend([p[0] for p in plots], topic_labels, loc=\"upper right\")\n",
    "plt.show()\n",
    "# plt.savefig(\"image.png\")"
   ]
  },
  {
   "cell_type": "markdown",
   "metadata": {},
   "source": [
    "## More Graphs"
   ]
  },
  {
   "cell_type": "code",
   "execution_count": null,
   "metadata": {},
   "outputs": [],
   "source": [
    "import seaborn as sns\n",
    "import matplotlib.colors as mcolors\n",
    "cols = [color for name, color in mcolors.TABLEAU_COLORS.items()]  # more colors: 'mcolors.XKCD_COLORS'\n",
    "\n",
    "fig, axes = plt.subplots(2,2,figsize=(16,14), dpi=160, sharex=True, sharey=True)\n",
    "\n",
    "for i, ax in enumerate(axes.flatten()):    \n",
    "    df_dominant_topic_sub = df_dominant_topic.loc[df_dominant_topic.Dominant_Topic == i, :]\n",
    "    doc_lens = [len(d) for d in df_dominant_topic_sub.Text]\n",
    "    ax.hist(doc_lens, bins = 1000, color=cols[i])\n",
    "    ax.tick_params(axis='y', labelcolor=cols[i], color=cols[i])\n",
    "    sns.kdeplot(doc_lens, color=\"black\", shade=False, ax=ax.twinx())\n",
    "    ax.set(xlim=(0, 1000), xlabel='Document Word Count')\n",
    "    ax.set_ylabel('Number of Documents', color=cols[i])\n",
    "    ax.set_title('Topic: '+str(i), fontdict=dict(size=16, color=cols[i]))\n",
    "\n",
    "fig.tight_layout()\n",
    "fig.subplots_adjust(top=0.90)\n",
    "plt.xticks(np.linspace(0,1000,9))\n",
    "fig.suptitle('Distribution of Document Word Counts by Dominant Topic', fontsize=22)\n",
    "plt.show()"
   ]
  },
  {
   "cell_type": "markdown",
   "metadata": {},
   "source": [
    "## Alternate Route to Topic Dominance for Genres"
   ]
  },
  {
   "cell_type": "code",
   "execution_count": 77,
   "metadata": {
    "scrolled": true
   },
   "outputs": [
    {
     "data": {
      "text/html": [
       "<div>\n",
       "<style scoped>\n",
       "    .dataframe tbody tr th:only-of-type {\n",
       "        vertical-align: middle;\n",
       "    }\n",
       "\n",
       "    .dataframe tbody tr th {\n",
       "        vertical-align: top;\n",
       "    }\n",
       "\n",
       "    .dataframe thead th {\n",
       "        text-align: right;\n",
       "    }\n",
       "</style>\n",
       "<table border=\"1\" class=\"dataframe\">\n",
       "  <thead>\n",
       "    <tr style=\"text-align: right;\">\n",
       "      <th></th>\n",
       "      <th>Date</th>\n",
       "      <th>Origin</th>\n",
       "      <th>T1</th>\n",
       "      <th>T2</th>\n",
       "      <th>T3</th>\n",
       "    </tr>\n",
       "  </thead>\n",
       "  <tbody>\n",
       "    <tr>\n",
       "      <th>0</th>\n",
       "      <td>2014-07-31</td>\n",
       "      <td>News Report</td>\n",
       "      <td>15</td>\n",
       "      <td>17</td>\n",
       "      <td>14</td>\n",
       "    </tr>\n",
       "    <tr>\n",
       "      <th>1</th>\n",
       "      <td>2014-10-11</td>\n",
       "      <td>News Report</td>\n",
       "      <td>4</td>\n",
       "      <td>19</td>\n",
       "      <td>14</td>\n",
       "    </tr>\n",
       "    <tr>\n",
       "      <th>2</th>\n",
       "      <td>2014-10-13</td>\n",
       "      <td>News Report</td>\n",
       "      <td>6</td>\n",
       "      <td>5</td>\n",
       "      <td>4</td>\n",
       "    </tr>\n",
       "    <tr>\n",
       "      <th>3</th>\n",
       "      <td>2016-07-22</td>\n",
       "      <td>News Report</td>\n",
       "      <td>14</td>\n",
       "      <td>12</td>\n",
       "      <td>10</td>\n",
       "    </tr>\n",
       "    <tr>\n",
       "      <th>4</th>\n",
       "      <td>2016-08-04</td>\n",
       "      <td>News Report</td>\n",
       "      <td>17</td>\n",
       "      <td>6</td>\n",
       "      <td>5</td>\n",
       "    </tr>\n",
       "    <tr>\n",
       "      <th>5</th>\n",
       "      <td>2016-08-26</td>\n",
       "      <td>Social Media</td>\n",
       "      <td>11</td>\n",
       "      <td>4</td>\n",
       "      <td>10</td>\n",
       "    </tr>\n",
       "  </tbody>\n",
       "</table>\n",
       "</div>"
      ],
      "text/plain": [
       "         Date         Origin  T1  T2  T3\n",
       "0  2014-07-31    News Report  15  17  14\n",
       "1  2014-10-11    News Report   4  19  14\n",
       "2  2014-10-13    News Report   6   5   4\n",
       "3  2016-07-22    News Report  14  12  10\n",
       "4  2016-08-04    News Report  17   6   5\n",
       "5  2016-08-26   Social Media  11   4  10"
      ]
     },
     "execution_count": 77,
     "metadata": {},
     "output_type": "execute_result"
    }
   ],
   "source": [
    "topics = pd.read_csv('./topics-trends-20.csv')\n",
    "topics.head(6)"
   ]
  },
  {
   "cell_type": "code",
   "execution_count": 71,
   "metadata": {},
   "outputs": [
    {
     "name": "stdout",
     "output_type": "stream",
     "text": [
      "Date\n",
      "Origin\n",
      "T1\n",
      "T2\n",
      "T3\n"
     ]
    }
   ],
   "source": [
    "for col in topics.columns:\n",
    "    print(col)"
   ]
  },
  {
   "cell_type": "code",
   "execution_count": 83,
   "metadata": {},
   "outputs": [
    {
     "data": {
      "text/plain": [
       "(162, 5)"
      ]
     },
     "execution_count": 83,
     "metadata": {},
     "output_type": "execute_result"
    }
   ],
   "source": [
    "topics_news = topics[topics[\"Origin\"] == \" News Report\"]\n",
    "topics_news.shape"
   ]
  },
  {
   "cell_type": "code",
   "execution_count": 90,
   "metadata": {},
   "outputs": [
    {
     "data": {
      "text/plain": [
       "6     21\n",
       "5     19\n",
       "4     18\n",
       "14    17\n",
       "17    14\n",
       "1     11\n",
       "10    11\n",
       "19    10\n",
       "15    10\n",
       "16     7\n",
       "12     7\n",
       "3      3\n",
       "18     3\n",
       "8      3\n",
       "11     2\n",
       "2      2\n",
       "9      1\n",
       "7      1\n",
       "13     1\n",
       "0      1\n",
       "Name: T3, dtype: int64"
      ]
     },
     "execution_count": 90,
     "metadata": {},
     "output_type": "execute_result"
    }
   ],
   "source": [
    "topics_news.T3.value_counts() # Repeated for each of 3 more prominent topics"
   ]
  },
  {
   "cell_type": "code",
   "execution_count": 87,
   "metadata": {},
   "outputs": [
    {
     "data": {
      "text/plain": [
       "(18, 5)"
      ]
     },
     "execution_count": 87,
     "metadata": {},
     "output_type": "execute_result"
    }
   ],
   "source": [
    "topics_social = topics[topics[\"Origin\"] == \" Social Media\"]\n",
    "topics_social.shape"
   ]
  },
  {
   "cell_type": "code",
   "execution_count": 92,
   "metadata": {},
   "outputs": [
    {
     "data": {
      "text/plain": [
       "17    3\n",
       "19    2\n",
       "9     2\n",
       "5     2\n",
       "14    1\n",
       "10    1\n",
       "7     1\n",
       "6     1\n",
       "4     1\n",
       "3     1\n",
       "2     1\n",
       "1     1\n",
       "0     1\n",
       "Name: T3, dtype: int64"
      ]
     },
     "execution_count": 92,
     "metadata": {},
     "output_type": "execute_result"
    }
   ],
   "source": [
    "topics_social.T3.value_counts()"
   ]
  },
  {
   "cell_type": "markdown",
   "metadata": {},
   "source": [
    "Once a count for the three most prominent topics in each group, news report and social media, is compiled. We can cross-check for topics most common and most in common as well as those topics that are trend toward one genre or the other."
   ]
  }
 ],
 "metadata": {
  "kernelspec": {
   "display_name": "Python 3",
   "language": "python",
   "name": "python3"
  },
  "language_info": {
   "codemirror_mode": {
    "name": "ipython",
    "version": 3
   },
   "file_extension": ".py",
   "mimetype": "text/x-python",
   "name": "python",
   "nbconvert_exporter": "python",
   "pygments_lexer": "ipython3",
   "version": "3.6.7"
  }
 },
 "nbformat": 4,
 "nbformat_minor": 2
}
